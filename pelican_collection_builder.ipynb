{
  "nbformat": 4,
  "nbformat_minor": 0,
  "metadata": {
    "colab": {
      "provenance": [],
      "authorship_tag": "ABX9TyOZOLpyoQAa+WuyVMfdKise",
      "include_colab_link": true
    },
    "kernelspec": {
      "name": "python3",
      "display_name": "Python 3"
    },
    "language_info": {
      "name": "python"
    }
  },
  "cells": [
    {
      "cell_type": "markdown",
      "metadata": {
        "id": "view-in-github",
        "colab_type": "text"
      },
      "source": [
        "<a href=\"https://colab.research.google.com/github/shawngraham/pelican-via-google-colab/blob/main/pelican_collection_builder.ipynb\" target=\"_parent\"><img src=\"https://colab.research.google.com/assets/colab-badge.svg\" alt=\"Open In Colab\"/></a>"
      ]
    },
    {
      "cell_type": "markdown",
      "source": [
        "# Collection Builder with Pelican\n",
        "\n",
        "Road-testing https://github.com/frederik-elwert/pelican-collection-demo"
      ],
      "metadata": {
        "id": "Z4RbrSRJjHt4"
      }
    },
    {
      "cell_type": "code",
      "source": [
        "# install uv to colab, see: https://colab.research.google.com/drive/1Lt2mw6zsqcvzmHxcqyp26EX-W5ARt1FZ?usp=sharing\n",
        "!curl -LsSf https://astral.sh/uv/install.sh | sh\n",
        "import os\n",
        "os.environ['PATH'] = '/root/.cargo/bin:' + os.environ['PATH']\n",
        "!uv venv\n",
        "!uv pip install ruff\n",
        "import sys\n",
        "sys.path.append(\".venv/lib/python3.10/site-packages\")"
      ],
      "metadata": {
        "id": "MMXR5UFtlRbG"
      },
      "execution_count": null,
      "outputs": []
    },
    {
      "cell_type": "code",
      "source": [
        "!uv --version"
      ],
      "metadata": {
        "colab": {
          "base_uri": "https://localhost:8080/"
        },
        "id": "rW3W5S21lpej",
        "outputId": "d18ce317-31d6-402b-db7f-405b690c8aa0"
      },
      "execution_count": 2,
      "outputs": [
        {
          "output_type": "stream",
          "name": "stdout",
          "text": [
            "uv 0.4.12\n"
          ]
        }
      ]
    },
    {
      "cell_type": "code",
      "source": [
        "!git clone https://github.com/frederik-elwert/pelican-collection-demo.git\n",
        "!git clone https://github.com/frederik-elwert/pelican-collection-builder.git\n",
        "!git clone https://github.com/frederik-elwert/pelican-collection-theme.git"
      ],
      "metadata": {
        "id": "XntNGWKfjfs6"
      },
      "execution_count": null,
      "outputs": []
    },
    {
      "cell_type": "code",
      "source": [
        "#!pip install pelican-collection-builder/.\n",
        "%cd pelican-collection-demo\n",
        "!uv sync"
      ],
      "metadata": {
        "id": "pZHB6VTej-Q4"
      },
      "execution_count": null,
      "outputs": []
    },
    {
      "cell_type": "code",
      "source": [
        "!mv ../pelican-collection-theme ."
      ],
      "metadata": {
        "id": "ZC4Lzcndm9A7"
      },
      "execution_count": 12,
      "outputs": []
    },
    {
      "cell_type": "code",
      "source": [
        "#sort out the theme\n",
        "!uv run pelican-themes -s \"$(realpath pelican-collection-theme)\""
      ],
      "metadata": {
        "id": "932tVGfJkuZM"
      },
      "execution_count": 13,
      "outputs": []
    },
    {
      "cell_type": "code",
      "source": [
        "#run this baby\n",
        "#!uv run invoke reserve\n",
        "!uv run invoke -l"
      ],
      "metadata": {
        "colab": {
          "base_uri": "https://localhost:8080/"
        },
        "id": "mBbuoZD5my6W",
        "outputId": "6fdc83aa-c141-4966-fafe-1fe9166bea05"
      },
      "execution_count": 15,
      "outputs": [
        {
          "output_type": "stream",
          "name": "stdout",
          "text": [
            "Available tasks:\n",
            "\n",
            "  build        Build local version of site\n",
            "  clean        Remove generated files\n",
            "  gh-pages     Publish to GitHub Pages\n",
            "  livereload   Automatically reload browser tab upon file modification.\n",
            "  preview      Build production version of site\n",
            "  publish      Publish to production via rsync\n",
            "  rebuild      `build` with the delete switch\n",
            "  regenerate   Automatically regenerate site upon file modification\n",
            "  reserve      `build`, then `serve`\n",
            "  serve        Serve site at http://$HOST:$PORT/ (default is localhost:8000)\n",
            "\n"
          ]
        }
      ]
    },
    {
      "cell_type": "code",
      "source": [
        "!uv run invoke build # should build local version of site"
      ],
      "metadata": {
        "colab": {
          "base_uri": "https://localhost:8080/"
        },
        "id": "mrkaWVhenrVG",
        "outputId": "815fcfff-91ca-46f4-827f-cfb005539b92"
      },
      "execution_count": 16,
      "outputs": [
        {
          "output_type": "stream",
          "name": "stdout",
          "text": [
            "\u001b[2K\u001b[32m⠇\u001b[0m Generating...\n",
            "\u001b[1A\u001b[2K\u001b[2;36m[14:11:14]\u001b[0m\u001b[2;36m \u001b[0m\u001b[33mWARNING \u001b[0m Keyboard interrupt received. Exiting.                                  \u001b]8;id=396890;file:///content/pelican-collection-demo/.venv/lib/python3.12/site-packages/pelican/log.py\u001b\\\u001b[2mlog.py\u001b[0m\u001b]8;;\u001b\\\u001b[2m:\u001b[0m\u001b]8;id=866000;file:///content/pelican-collection-demo/.venv/lib/python3.12/site-packages/pelican/log.py#89\u001b\\\u001b[2m89\u001b[0m\u001b]8;;\u001b\\\n"
          ]
        }
      ]
    },
    {
      "cell_type": "code",
      "source": [
        "## to serve the website, you need to take all of the contents of the 'output'\n",
        "## folder and drop them into a repo, eg: github.com/yourname/mysite\n",
        "## where the contents of 'mysite' = the contents of 'output'\n",
        "## then set up gh-pages to serve the site.\n",
        "\n",
        "## this line will zip your stuff up and download it.\n",
        "!zip -r thewebsite.zip output\n",
        "from google.colab import files\n",
        "files.download('thewebsite.zip')"
      ],
      "metadata": {
        "id": "IkdXF2nGnzTl"
      },
      "execution_count": null,
      "outputs": []
    },
    {
      "cell_type": "code",
      "source": [
        "from google.colab import output\n",
        "output.serve_kernel_port_as_iframe(8000)\n",
        "\n",
        "!uv run invoke serve"
      ],
      "metadata": {
        "colab": {
          "base_uri": "https://localhost:8080/",
          "height": 440
        },
        "id": "pjs85zOIpO0h",
        "outputId": "818075c1-8340-48a0-de8a-3953275a3a0b"
      },
      "execution_count": 28,
      "outputs": [
        {
          "output_type": "display_data",
          "data": {
            "text/plain": [
              "<IPython.core.display.Javascript object>"
            ],
            "application/javascript": [
              "(async (port, path, width, height, cache, element) => {\n",
              "    if (!google.colab.kernel.accessAllowed && !cache) {\n",
              "      return;\n",
              "    }\n",
              "    element.appendChild(document.createTextNode(''));\n",
              "    const url = await google.colab.kernel.proxyPort(port, {cache});\n",
              "    const iframe = document.createElement('iframe');\n",
              "    iframe.src = new URL(path, url).toString();\n",
              "    iframe.height = height;\n",
              "    iframe.width = width;\n",
              "    iframe.style.border = 0;\n",
              "    iframe.allow = [\n",
              "        'accelerometer',\n",
              "        'autoplay',\n",
              "        'camera',\n",
              "        'clipboard-read',\n",
              "        'clipboard-write',\n",
              "        'gyroscope',\n",
              "        'magnetometer',\n",
              "        'microphone',\n",
              "        'serial',\n",
              "        'usb',\n",
              "        'xr-spatial-tracking',\n",
              "    ].join('; ');\n",
              "    element.appendChild(iframe);\n",
              "  })(8000, \"/\", \"100%\", \"400\", false, window.element)"
            ]
          },
          "metadata": {}
        },
        {
          "output_type": "stream",
          "name": "stdout",
          "text": [
            "Serving at localhost:8000 ...\n"
          ]
        }
      ]
    }
  ]
}