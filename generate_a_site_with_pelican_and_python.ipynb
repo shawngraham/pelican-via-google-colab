{
  "nbformat": 4,
  "nbformat_minor": 0,
  "metadata": {
    "colab": {
      "provenance": [],
      "authorship_tag": "ABX9TyOBAJtoccg0qK4w/eo9fX6x",
      "include_colab_link": true
    },
    "kernelspec": {
      "name": "python3",
      "display_name": "Python 3"
    },
    "language_info": {
      "name": "python"
    }
  },
  "cells": [
    {
      "cell_type": "markdown",
      "metadata": {
        "id": "view-in-github",
        "colab_type": "text"
      },
      "source": [
        "<a href=\"https://colab.research.google.com/github/shawngraham/pelican-via-google-colab/blob/main/generate_a_site_with_pelican_and_python.ipynb\" target=\"_parent\"><img src=\"https://colab.research.google.com/assets/colab-badge.svg\" alt=\"Open In Colab\"/></a>"
      ]
    },
    {
      "cell_type": "markdown",
      "source": [
        "# Pelican Static Website Generator\n",
        "\n",
        "Pelican is a static website generator available [at this website](https://getpelican.com/#quickstart).\n",
        "\n",
        "In a classroom setting, with multiple computers, various flavours of OS, and security settings etc, it can be a pain in the butt to get everything installed properly. This notebook allows a person to generate a static website with all of those issues taken care of already.\n",
        "\n",
        "If you already have a folder filled with markdown formatted content, after you run the cell with `pelican-quickstart` you can drag and drop those files into the 'content' folder using the file tray at left. Otherwise, at the appropriate time (in the appropriate cell) you can generate some placeholder text, just to see how it all works.\n",
        "\n",
        "Hit the 'run' button (the triangle) in each cell, in turn; wait until the cell finishes before hitting the next one. Once it runs, it will show `[1]` etc to show it was the first...second...third etc cell to run."
      ],
      "metadata": {
        "id": "dSo4T8u-M4VM"
      }
    },
    {
      "cell_type": "code",
      "source": [
        "!apt install python3.10-venv\n",
        "!python -m venv env-pelican\n",
        "!source env-pelican/bin/activate"
      ],
      "metadata": {
        "id": "KKBmEynbCF4d",
        "colab": {
          "base_uri": "https://localhost:8080/"
        },
        "outputId": "50bbc1eb-5af4-43d4-ea19-40d5d52d56a5"
      },
      "execution_count": 1,
      "outputs": [
        {
          "output_type": "stream",
          "name": "stdout",
          "text": [
            "Reading package lists... Done\n",
            "Building dependency tree... Done\n",
            "Reading state information... Done\n",
            "The following additional packages will be installed:\n",
            "  python3-pip-whl python3-setuptools-whl\n",
            "The following NEW packages will be installed:\n",
            "  python3-pip-whl python3-setuptools-whl python3.10-venv\n",
            "0 upgraded, 3 newly installed, 0 to remove and 49 not upgraded.\n",
            "Need to get 2,474 kB of archives.\n",
            "After this operation, 2,885 kB of additional disk space will be used.\n",
            "Get:1 http://archive.ubuntu.com/ubuntu jammy-updates/universe amd64 python3-pip-whl all 22.0.2+dfsg-1ubuntu0.4 [1,680 kB]\n",
            "Get:2 http://archive.ubuntu.com/ubuntu jammy-updates/universe amd64 python3-setuptools-whl all 59.6.0-1.2ubuntu0.22.04.2 [788 kB]\n",
            "Get:3 http://archive.ubuntu.com/ubuntu jammy-updates/universe amd64 python3.10-venv amd64 3.10.12-1~22.04.6 [5,722 B]\n",
            "Fetched 2,474 kB in 1s (1,960 kB/s)\n",
            "Selecting previously unselected package python3-pip-whl.\n",
            "(Reading database ... 123599 files and directories currently installed.)\n",
            "Preparing to unpack .../python3-pip-whl_22.0.2+dfsg-1ubuntu0.4_all.deb ...\n",
            "Unpacking python3-pip-whl (22.0.2+dfsg-1ubuntu0.4) ...\n",
            "Selecting previously unselected package python3-setuptools-whl.\n",
            "Preparing to unpack .../python3-setuptools-whl_59.6.0-1.2ubuntu0.22.04.2_all.deb ...\n",
            "Unpacking python3-setuptools-whl (59.6.0-1.2ubuntu0.22.04.2) ...\n",
            "Selecting previously unselected package python3.10-venv.\n",
            "Preparing to unpack .../python3.10-venv_3.10.12-1~22.04.6_amd64.deb ...\n",
            "Unpacking python3.10-venv (3.10.12-1~22.04.6) ...\n",
            "Setting up python3-setuptools-whl (59.6.0-1.2ubuntu0.22.04.2) ...\n",
            "Setting up python3-pip-whl (22.0.2+dfsg-1ubuntu0.4) ...\n",
            "Setting up python3.10-venv (3.10.12-1~22.04.6) ...\n"
          ]
        }
      ]
    },
    {
      "cell_type": "code",
      "source": [
        "!python -m pip install \"pelican[markdown]\" --ignore-installed blinker\n",
        "\n",
        "# you'll get some warnings, but these can be ignored.\n"
      ],
      "metadata": {
        "id": "E042QzxgBuBL"
      },
      "execution_count": null,
      "outputs": []
    },
    {
      "cell_type": "code",
      "source": [
        "## this will let us use wikilink syntax for links within our text files\n",
        "\n",
        "!pip install minchin.pelican.plugins.wikilinks"
      ],
      "metadata": {
        "id": "fAq_NHHKB2JP"
      },
      "execution_count": null,
      "outputs": []
    },
    {
      "cell_type": "code",
      "source": [
        "## if you intend to serve your website using Github Pages\n",
        "## this plugin will add the necessary code to our finished site to tell Github\n",
        "## not to use jekyll to process our files, as they're already ready to go.\n",
        "\n",
        "!pip install minchin.pelican.plugins.nojekyll"
      ],
      "metadata": {
        "id": "_P8Cc-CpCAJD"
      },
      "execution_count": null,
      "outputs": []
    },
    {
      "cell_type": "code",
      "source": [
        "# this will generate all of the necessary files and some basic\n",
        "# configuration to get our site up and running.\n",
        "\n",
        "!pelican-quickstart\n",
        "\n",
        "# answering the questions in the text boxes it gives you - your typing will be obscured,\n",
        "# but after you hit enter you'll see what you wrote. Weird, I know\n",
        "# here are what the questions will look like, with my example answers:\n",
        "# > Where do you want to create your new web site? [.]\n",
        "# > What will be the title of this web site? shawntest\n",
        "# > Who will be the author of this web site? shawn\n",
        "# > What will be the default language of this web site? [en] en\n",
        "# > Do you want to specify a URL prefix? e.g., https://example.com   (Y/n) n\n",
        "# > Do you want to enable article pagination? (Y/n) n\n",
        "# > What is your time zone? [Etc/UTC] UTC\n",
        "# > Do you want to generate a tasks.py/Makefile to automate generation and publishing? (Y/n) n\n"
      ],
      "metadata": {
        "id": "JI6ZIWmMCwWM"
      },
      "execution_count": null,
      "outputs": []
    },
    {
      "cell_type": "code",
      "source": [
        "# open the file tray at left or run this line to confirm that everything was made\n",
        "!ls\n"
      ],
      "metadata": {
        "id": "96nFiem8D8Pm"
      },
      "execution_count": null,
      "outputs": []
    },
    {
      "cell_type": "code",
      "source": [
        "# now upload your markdown into the content folder\n",
        "# or if you know how, you can create some here by running this cell and adjusting accordingly:\n",
        "# (pelican's 'content' folder is _inside_ colab's _content_ folder, which is fun)\n",
        "# NB every text file for pelican has to have this metadata, formatted this way\n",
        "# or else you'll get weird errors when you generate the site\n",
        "\n",
        "%%writefile index.md\n",
        "Title: My First Article\n",
        "Date: 2024-07-25 10:44\n",
        "Category: getting-started\n",
        "\n",
        "Welp, here goes everythin!\n",
        "\n"
      ],
      "metadata": {
        "id": "XDwB2WLRENYO"
      },
      "execution_count": null,
      "outputs": []
    },
    {
      "cell_type": "code",
      "source": [
        "# make the thing!\n",
        "!pelican"
      ],
      "metadata": {
        "id": "ZzRxgh4fGXLZ"
      },
      "execution_count": null,
      "outputs": []
    },
    {
      "cell_type": "code",
      "source": [
        "## if it says it processed something,\n",
        "## then you've got a website, hooray!\n",
        "## to serve the website, you need to take all of the contents of the 'output'\n",
        "## folder and drop them into a repo, eg: github.com/yourname/mysite\n",
        "## where the contents of 'mysite' = the contents of 'output'\n",
        "## then set up gh-pages to serve the site.\n",
        "\n",
        "## this line will zip your stuff up; then right-click on the file in the file tray\n",
        "## (refresh it if you don't see it) and hit 'download'\n",
        "!zip -r thewebsite.zip output\n",
        "from google.colab import files\n",
        "files.download('thewebsite.zip')"
      ],
      "metadata": {
        "id": "IOxLQcP8GmLq"
      },
      "execution_count": null,
      "outputs": []
    },
    {
      "cell_type": "code",
      "source": [
        "# on your own computer, you can unzip the 'output' folder to take a look at the results\n",
        "# open a terminal or command prompt _inside_ that folder (such that if you type `ls` or `dir`\n",
        "# you'll see the 'author', 'category', 'theme' and html files etc) and start a python webserver with:\n",
        "# python -m http.server\n",
        "# and then open your browser at localhost:8000\n",
        "\n",
        "# now... that default theme. Pretty heinous, eh? Let's change it.\n"
      ],
      "metadata": {
        "id": "5XLwT_foICi9"
      },
      "execution_count": null,
      "outputs": []
    },
    {
      "cell_type": "markdown",
      "source": [
        "## Themes\n",
        "\n",
        "The default theme is very 2005, my students say. The section below will load up a pile of other themes to try out.\n",
        "\n",
        "You can see the different options at: https://pelicanthemes.com/"
      ],
      "metadata": {
        "id": "jZMoNlQKZVvB"
      }
    },
    {
      "cell_type": "code",
      "source": [
        "# run this line to get all of the themes for pelican\n",
        "#\n",
        "# I like 'Flex'\n",
        "!git clone --recursive https://github.com/getpelican/pelican-themes ~/pelican-themes"
      ],
      "metadata": {
        "colab": {
          "base_uri": "https://localhost:8080/"
        },
        "id": "rGv4mhkWJCqW",
        "outputId": "5ae2fca5-0e49-4440-d82f-2b0891999675"
      },
      "execution_count": null,
      "outputs": [
        {
          "output_type": "stream",
          "name": "stdout",
          "text": [
            "fatal: destination path '/root/pelican-themes' already exists and is not an empty directory.\n"
          ]
        }
      ]
    },
    {
      "cell_type": "code",
      "source": [
        "## this line will add the THEME setting to your pelicanconf.py. The two >> mean 'append', while '>' means 'overwrite'. Careful!\n",
        "\n",
        "!echo \"THEME = \\\"/root/pelican-themes/Flex\\\"\" >> pelicanconf.py\n",
        "\n",
        "## nb if you were running this on your own computer, you might want to double check where\n",
        "## the git clone command above actually put your themes, and then use the direct path with echo.\n"
      ],
      "metadata": {
        "id": "wH4oJJ57LaQC"
      },
      "execution_count": null,
      "outputs": []
    },
    {
      "cell_type": "code",
      "source": [
        "# make the thing again!\n",
        "\n",
        "!pelican\n",
        "!zip -r new-theme-website.zip output\n",
        "from google.colab import files\n",
        "files.download('new-theme-website.zip')"
      ],
      "metadata": {
        "id": "i5QwdZNBL6ww"
      },
      "execution_count": null,
      "outputs": []
    },
    {
      "cell_type": "markdown",
      "source": [
        "## Serve the Website in an Iframe\n",
        "\n",
        "The following block of code should render the website in an iframe in this notebook, so you can see the effect of your changes. You will have to stop the cell in order to make any changes, then re-run it."
      ],
      "metadata": {
        "id": "Lm1AMw9PrUt6"
      }
    },
    {
      "cell_type": "code",
      "source": [
        "from google.colab import output\n",
        "output.serve_kernel_port_as_iframe(8000)\n",
        "!pelican -r -l"
      ],
      "metadata": {
        "id": "pqW2SaUXriMf"
      },
      "execution_count": null,
      "outputs": []
    },
    {
      "cell_type": "markdown",
      "source": [
        "## Configuration\n",
        "\n",
        "Double click on the `pelicanconf.py` file to change up some of the settings. This will open a little editor window at right. Make your changes, then hit ctrl+s to save. Then you'd regenerate your site with the `pelican` command. For reference, here are the contents of that file as they stood when I shared this notebook.\n",
        "\n",
        "```\n",
        "SITENAME = 'shawntest'\n",
        "SITEURL = \"\"\n",
        "\n",
        "PATH = \"content\"\n",
        "\n",
        "TIMEZONE = 'UTC'\n",
        "\n",
        "DEFAULT_LANG = 'en'\n",
        "\n",
        "# Feed generation is usually not desired when developing\n",
        "FEED_ALL_ATOM = None\n",
        "CATEGORY_FEED_ATOM = None\n",
        "TRANSLATION_FEED_ATOM = None\n",
        "AUTHOR_FEED_ATOM = None\n",
        "AUTHOR_FEED_RSS = None\n",
        "\n",
        "# Blogroll\n",
        "LINKS = (\n",
        "    (\"Pelican\", \"https://getpelican.com/\"),\n",
        "    (\"Python.org\", \"https://www.python.org/\"),\n",
        "    (\"Jinja2\", \"https://palletsprojects.com/p/jinja/\"),\n",
        "    (\"You can modify those links in your config file\", \"#\"),\n",
        ")\n",
        "\n",
        "# Social widget\n",
        "SOCIAL = (\n",
        "    (\"You can add links in your config file\", \"#\"),\n",
        "    (\"Another social link\", \"#\"),\n",
        ")\n",
        "\n",
        "DEFAULT_PAGINATION = False\n",
        "\n",
        "# Uncomment following line if you want document-relative URLs when developing\n",
        "# RELATIVE_URLS = True\n",
        "THEME = \"/root/pelican-themes/Flex\"\n",
        "```"
      ],
      "metadata": {
        "id": "ZU2bY_FOabU5"
      }
    },
    {
      "cell_type": "code",
      "source": [],
      "metadata": {
        "id": "j7aoqaYYag09"
      },
      "execution_count": null,
      "outputs": []
    }
  ]
}